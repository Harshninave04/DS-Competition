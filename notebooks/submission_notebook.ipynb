{
 "cells": [
  {
   "cell_type": "markdown",
   "metadata": {},
   "source": [
    "# Submission"
   ]
  },
  {
   "cell_type": "markdown",
   "metadata": {},
   "source": [
    "## Submission File\n",
    "\n",
    "For each `student_id` in the test set, you must predict a value for each of the two analytic measures (described on the Data page). The file should contain a header and have the following format:\n",
    "\n",
    "```plaintext\n",
    "student_id,content,wording\n",
    "000000ffffff,0.0,0.0\n",
    "111111eeeeee,0.0,0.0\n",
    "222222cccccc,0.0,0.0\n",
    "333333dddddd,0.0,0.0\n",
    "...\n",
    "```"
   ]
  },
  {
   "cell_type": "markdown",
   "metadata": {},
   "source": [
    "July 12, 2023 - Start Date. \\\n",
    "October 4, 2023 - Entry Deadline. You must accept the competition rules before this date in order to compete. \\\n",
    "October 4, 2023 - Team Merger Deadline. This is the last day participants may join or merge teams. \\\n",
    "October 11, 2023 - Final Submission Deadline. \\\n",
    "All deadlines are at 11:59 PM UTC on the corresponding day unless otherwise noted. The competition organizers reserve the right to update the contest timeline if they deem it necessary."
   ]
  },
  {
   "cell_type": "markdown",
   "metadata": {},
   "source": [
    "### This is a Code Competition\n",
    "\n",
    "Submissions to this competition must be made through Notebooks. In order for the \"Submit\" button to be active after a commit, the following conditions must be met:\n",
    "\n",
    "- CPU Notebook <= 9 hours run-time\n",
    "- GPU Notebook <= 9 hours run-time\n",
    "- Internet access disabled\n",
    "- Freely & publicly available external data is allowed, including pre-trained models\n",
    "- Submission file must be named `submission.csv`\n",
    "\n",
    "Please see the [Code Competition FAQ](https://www.kaggle.com/docs/competitions#notebooks-only-FAQ) for more information on how to submit. And review the [code debugging doc](https://www.kaggle.com/code-competition-debugging) if you are encountering submission errors."
   ]
  },
  {
   "cell_type": "markdown",
   "metadata": {},
   "source": [
    "## Dataset Description\n",
    "\n",
    "The dataset comprises about 24,000 summaries written by students in grades 3-12 of passages on a variety of topics and genres. These summaries have been assigned scores for both content and wording. The goal of the competition is to predict content and wording scores for summaries on unseen topics."
   ]
  },
  {
   "cell_type": "markdown",
   "metadata": {},
   "source": [
    "### File and Field Information"
   ]
  },
  {
   "cell_type": "markdown",
   "metadata": {},
   "source": [
    "**summaries_train.csv** - Summaries in the training set.\n",
    "\n",
    "- `student_id` - The ID of the student writer.\n",
    "- `prompt_id` - The ID of the prompt which links to the prompt file.\n",
    "- `text` - The full text of the student's summary.\n",
    "- `content` - The content score for the summary. The first target.\n",
    "- `wording` - The wording score for the summary. The second target.\n",
    "- `summaries_test.csv` - Summaries in the test set. Contains all fields above except content and wording.\n",
    "\n",
    "**prompts_train.csv** - The four training set prompts. Each prompt comprises the complete summarization assignment given to students.\n",
    "\n",
    "- `prompt_id` - The ID of the prompt which links to the summaries file.\n",
    "- `prompt_question` - The specific question the students are asked to respond to.\n",
    "- `prompt_title` - A short-hand title for the prompt.\n",
    "- `prompt_text` - The full prompt text.\n",
    "\n",
    "**prompts_test.csv** - The test set prompts. Contains the same fields as above. The prompts here are only an example. The full test set has a large number of prompts. The train / public test / private test splits do not share any prompts.\n",
    "\n",
    "**sample_submission.csv** - A submission file in the correct format. See the Evaluation page for details.\n",
    "\n",
    "Please note that this is a Code Competition. To help you author your submissions, we provide a some example data in summaries_test.csv and prompts_test.csv in the correct format. When your submission is scored, this example test data will be replaced with the full test set. The full test set comprises about 17,000 summaries from a large number of prompts."
   ]
  },
  {
   "cell_type": "code",
   "execution_count": null,
   "metadata": {},
   "outputs": [],
   "source": []
  }
 ],
 "metadata": {
  "language_info": {
   "name": "python"
  },
  "orig_nbformat": 4
 },
 "nbformat": 4,
 "nbformat_minor": 2
}
