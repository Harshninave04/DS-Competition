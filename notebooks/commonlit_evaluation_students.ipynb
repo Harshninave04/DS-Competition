{
 "cells": [
  {
   "cell_type": "markdown",
   "metadata": {},
   "source": [
    "# CommonLit-Evaluation-Thad"
   ]
  },
  {
   "cell_type": "code",
   "execution_count": null,
   "metadata": {},
   "outputs": [],
   "source": [
    "# Import necessary libraries\n",
    "import pandas as pd\n",
    "import spacy\n",
    "import torch\n",
    "from sklearn.compose import ColumnTransformer\n",
    "from sklearn.metrics import mean_squared_error\n",
    "from sklearn.model_selection import train_test_split\n",
    "from sklearn.pipeline import Pipeline\n",
    "from sklearn.preprocessing import OneHotEncoder, StandardScaler\n",
    "from torch.utils.data import Dataset\n",
    "from transformers import (\n",
    "    BertConfig,\n",
    "    BertForSequenceClassification,\n",
    "    BertTokenizer,\n",
    "    EarlyStoppingCallback,\n",
    "    EvalPrediction,\n",
    "    Trainer,\n",
    "    TrainingArguments,\n",
    ")\n"
   ]
  },
  {
   "cell_type": "code",
   "execution_count": null,
   "metadata": {},
   "outputs": [],
   "source": [
    "# Load the data\n",
    "tst_df = pd.read_csv(\"/kaggle/input/commonlit-evaluate-student-summaries/summaries_test.csv\")\n",
    "trn_df = pd.read_csv(\"/kaggle/input/commonlit-evaluate-student-summaries/summaries_train.csv\")\n"
   ]
  },
  {
   "cell_type": "code",
   "execution_count": null,
   "metadata": {},
   "outputs": [],
   "source": [
    "# Preprocessing\n",
    "class Tknz(Dataset):\n",
    "    def __init__(self, texts, labels, tokenizer, max_len=512):\n",
    "        self.texts = self.preprocess_text(texts)\n",
    "        self.labels = labels\n",
    "        self.tokenizer = tokenizer\n",
    "        self.max_len = max_len\n",
    "​\n",
    "    def __len__(self):\n",
    "        return len(self.texts)\n",
    "​\n",
    "    def __getitem__(self, idx):\n",
    "        text = self.texts[idx]\n",
    "        encoding = self.tokenizer.encode_plus(\n",
    "            text,\n",
    "            add_special_tokens=True,\n",
    "            max_length=self.max_len,\n",
    "            return_token_type_ids=False,\n",
    "            padding=\"max_length\",\n",
    "            truncation=True,\n",
    "            return_attention_mask=True,\n",
    "            return_tensors=\"pt\",\n",
    "        )\n",
    "\n",
    "        if self.labels is not None:\n",
    "            label = self.labels[idx]\n",
    "            return {\n",
    "                \"input_ids\": encoding[\"input_ids\"].flatten(),\n",
    "                \"attention_mask\": encoding[\"attention_mask\"].flatten(),\n",
    "                \"labels\": torch.tensor(label, dtype=torch.long),\n",
    "            }\n",
    "        else:  # Return only inputs for test data\n",
    "            return {\n",
    "                \"input_ids\": encoding[\"input_ids\"].flatten(),\n",
    "                \"attention_mask\": encoding[\"attention_mask\"].flatten(),\n",
    "            }\n",
    "​\n",
    "    def preprocess_text(self, texts):\n",
    "        preprocessed_texts = []\n",
    "        for text in texts:\n",
    "            # Apply SpaCy pipeline on the text\n",
    "            doc = nlp(text)\n",
    "            # Lemmatize the text and join the words back into a single string\n",
    "            lemma_text = \" \".join([token.lemma_ for token in doc])\n",
    "            preprocessed_texts.append(lemma_text)\n",
    "        return preprocessed_texts\n",
    "​"
   ]
  },
  {
   "cell_type": "code",
   "execution_count": null,
   "metadata": {},
   "outputs": [],
   "source": [
    "​# Compute Metrics for Regression\n",
    "def compute_metrics(eval_pred: EvalPrediction):\n",
    "    labels = eval_pred.label_ids\n",
    "    preds = eval_pred.predictions\n",
    "    mse_content = mean_squared_error(labels[:, 0], preds[:, 0])\n",
    "    mse_wording = mean_squared_error(labels[:, 1], preds[:, 1])\n",
    "    return {\"mse_content\": mse_content, \"mse_wording\": mse_wording}\n"
   ]
  },
  {
   "cell_type": "code",
   "execution_count": null,
   "metadata": {},
   "outputs": [],
   "source": [
    "# Load the tokenizer\n",
    "tokenizer = BertTokenizer.from_pretrained(\"bert-base-uncased\")\n",
    "\n",
    "# Load the SpaCy model\n",
    "nlp = spacy.load(\"en_core_web_sm\")\n",
    "\n",
    "# Load the user secrets\n",
    "# WANDB_API_KEY = os.environ[\"WANDB_API_KEY\"]"
   ]
  },
  {
   "cell_type": "markdown",
   "metadata": {},
   "source": [
    "## Data Preprocessing\n"
   ]
  },
  {
   "cell_type": "code",
   "execution_count": null,
   "metadata": {},
   "outputs": [],
   "source": [
    "# Identify categorical and numerical columns\n",
    "categorical_features = [\"keyword\"]\n",
    "numerical_features = [\"some_numerical_column\"]\n",
    "\n",
    "# Create a transformer for numerical features\n",
    "numerical_transformer = Pipeline(steps=[(\"scaler\", StandardScaler())])\n",
    "\n",
    "# Create a transformer for categorical features\n",
    "categorical_transformer = Pipeline(\n",
    "    steps=[(\"onehot\", OneHotEncoder(handle_unknown=\"ignore\"))]\n",
    ")\n",
    "\n",
    "# Combine the transformers\n",
    "preprocessor = ColumnTransformer(\n",
    "    transformers=[\n",
    "        (\"num\", numerical_transformer, numerical_features),\n",
    "        (\"cat\", categorical_transformer, categorical_features),\n",
    "    ]\n",
    ")\n",
    "# Apply the transformations to the training data\n",
    "trn_df = preprocessor.fit_transform(trn_df)\n",
    "​\n",
    "# Apply the transformations to the test data\n",
    "tst_df = preprocessor.transform(tst_df)"
   ]
  },
  {
   "cell_type": "code",
   "execution_count": null,
   "metadata": {},
   "outputs": [],
   "source": [
    "# Handle missing values in the data\n",
    "trn_df = trn_df.fillna(\"None\")\n",
    "tst_df = tst_df.fillna(\"None\")\n",
    "​\n",
    "trn_txt = trn_df[\"text\"].tolist()\n",
    "trn_lbl = trn_df[[\"content\", \"wording\"]].values.tolist()\n",
    "trn_txt, tst_txt, trn_lbl, tst_lbl = train_test_split(trn_txt, trn_lbl, test_size=0.2)"
   ]
  },
  {
   "cell_type": "code",
   "execution_count": null,
   "metadata": {},
   "outputs": [],
   "source": [
    "# Initialize the datasets\n",
    "test_dataset = Tknz(tst_txt)\n",
    "train_dataset = Tknz(trn_txt, trn_lbl, train_test_split())"
   ]
  },
  {
   "cell_type": "markdown",
   "metadata": {},
   "source": [
    "## Model Creation and Training"
   ]
  },
  {
   "cell_type": "code",
   "execution_count": null,
   "metadata": {},
   "outputs": [],
   "source": [
    "# Define the configuration\n",
    "config = BertConfig.from_pretrained(\"bert-base-uncased\", num_labels=2)"
   ]
  },
  {
   "cell_type": "code",
   "execution_count": null,
   "metadata": {},
   "outputs": [],
   "source": [
    "# Create the model with the defined configuration\n",
    "model = BertForSequenceClassification(config)"
   ]
  },
  {
   "cell_type": "code",
   "execution_count": null,
   "metadata": {},
   "outputs": [],
   "source": [
    "# Define the training arguments\n",
    "training_args = TrainingArguments(\n",
    "    output_dir=\"../results\",  # output directory\n",
    "    num_train_epochs=3,\n",
    "    evaluation_strategy=\"epoch\",\n",
    "    save_strategy=\"epoch\",\n",
    "    load_best_model_at_end=True,\n",
    "    fp16=True,\n",
    ")"
   ]
  },
  {
   "cell_type": "code",
   "execution_count": null,
   "metadata": {},
   "outputs": [],
   "source": [
    "# Initialize the Trainer\n",
    "trainer = Trainer(\n",
    "    model=model,  # the instantiated Transformers model to be trained\n",
    "    args=training_args,  # training arguments, defined above\n",
    "    train_dataset=train_dataset,  # training dataset\n",
    "    eval_dataset=test_dataset,  # evaluation dataset\n",
    "    compute_metrics=compute_metrics,  # function to compute metrics\n",
    "    callbacks=[\n",
    "        EarlyStoppingCallback(early_stopping_patience=3),\n",
    "    ],  # Stop if validation loss doesn't improve for 3 evaluations\n",
    ")"
   ]
  },
  {
   "cell_type": "markdown",
   "metadata": {},
   "source": [
    "## Submission Section"
   ]
  },
  {
   "cell_type": "code",
   "execution_count": null,
   "metadata": {},
   "outputs": [],
   "source": [
    "​# Making predictions on test data\n",
    "test_predictions = trainer.predict(test_dataset)\n",
    "​\n",
    "# Prepare a DataFrame with student_id and predictions\n",
    "submission_df = pd.DataFrame(\n",
    "    {\n",
    "        \"student_id\": tst_df[\"student_id\"],\n",
    "        \"content\": test_predictions.predictions[:, 0],\n",
    "        \"wording\": test_predictions.predictions[:, 1],\n",
    "    }\n",
    ")\n",
    "​\n",
    "# Save the predictions to a CSV file\n",
    "submission_df.to_csv(\"submission.csv\", index=False)\n",
    "​"
   ]
  }
 ],
 "metadata": {
  "language_info": {
   "name": "python"
  },
  "orig_nbformat": 4
 },
 "nbformat": 4,
 "nbformat_minor": 2
}
